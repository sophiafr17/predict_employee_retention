{
 "cells": [
  {
   "cell_type": "markdown",
   "id": "a8acb554",
   "metadata": {
    "papermill": {
     "duration": 0.006063,
     "end_time": "2024-05-20T19:06:04.594949",
     "exception": false,
     "start_time": "2024-05-20T19:06:04.588886",
     "status": "completed"
    },
    "tags": []
   },
   "source": [
    "# Introduction\n",
    "\n",
    "Goal is to predict employee retention and understand its main drivers\n",
    "\n",
    "Assume, for each company, that the headcount starts from zero on 2011/01/23. \n",
    "\n",
    "\n"
   ]
  },
  {
   "cell_type": "markdown",
   "id": "2c4f77b0",
   "metadata": {
    "papermill": {
     "duration": 0.004642,
     "end_time": "2024-05-20T19:06:04.605492",
     "exception": false,
     "start_time": "2024-05-20T19:06:04.600850",
     "status": "completed"
    },
    "tags": []
   },
   "source": [
    "# Loading Libraries and Datasets"
   ]
  },
  {
   "cell_type": "code",
   "execution_count": 1,
   "id": "0b4fc029",
   "metadata": {
    "_cell_guid": "b1076dfc-b9ad-4769-8c92-a6c4dae69d19",
    "_uuid": "8f2839f25d086af736a60e9eeb907d3b93b6e0e5",
    "execution": {
     "iopub.execute_input": "2024-05-20T19:06:04.617811Z",
     "iopub.status.busy": "2024-05-20T19:06:04.616966Z",
     "iopub.status.idle": "2024-05-20T19:06:07.472310Z",
     "shell.execute_reply": "2024-05-20T19:06:07.471164Z"
    },
    "papermill": {
     "duration": 2.864553,
     "end_time": "2024-05-20T19:06:07.475230",
     "exception": false,
     "start_time": "2024-05-20T19:06:04.610677",
     "status": "completed"
    },
    "tags": []
   },
   "outputs": [
    {
     "name": "stdout",
     "output_type": "stream",
     "text": [
      "    employee_id  company_id              dept  seniority    salary   join_date   quit_date\n",
      "0       13021.0           7  customer_service         28   89000.0  2014-03-24  2015-10-30\n",
      "1      825355.0           7         marketing         20  183000.0  2013-04-29  2014-04-04\n",
      "2      927315.0           4         marketing         14  101000.0  2014-10-13         NaN\n",
      "3      662910.0           7  customer_service         20  115000.0  2012-05-14  2013-06-07\n",
      "4      256971.0           2      data_science         23  276000.0  2011-10-17  2014-08-22\n",
      "5      509529.0           4      data_science         14  165000.0  2012-01-30  2013-08-30\n",
      "6       88600.0           4  customer_service         21  107000.0  2013-10-21         NaN\n",
      "7      716309.0           2  customer_service          4   30000.0  2014-03-05         NaN\n",
      "8      172999.0           9          engineer          7  160000.0  2012-12-10  2015-10-23\n",
      "9      504159.0           1             sales          7  104000.0  2012-06-12         NaN\n",
      "10     892155.0           6  customer_service         13   72000.0  2012-11-12  2015-02-27\n",
      "11     904158.0           2         marketing         17  230000.0  2015-05-11         NaN\n",
      "12     939058.0           1         marketing          1   48000.0  2012-12-10  2013-11-15\n",
      "13     163427.0          10         marketing         23  154000.0  2012-06-18  2015-09-25\n",
      "14     461248.0           2             sales         20  201000.0  2013-09-16  2014-08-22\n",
      "15     265226.0           1      data_science          4   80000.0  2014-05-27  2015-07-10\n",
      "16     932790.0           7         marketing         10   88000.0  2011-11-30  2013-11-22\n",
      "17      69693.0           7  customer_service          6   54000.0  2014-03-31         NaN\n",
      "18     721600.0           2         marketing         20  193000.0  2014-12-29         NaN\n",
      "19     982668.0           1  customer_service         14   76000.0  2015-07-27         NaN \n",
      " \n",
      " (24702, 7)\n"
     ]
    }
   ],
   "source": [
    "import numpy as np # linear algebra\n",
    "import pandas as pd # data processing, CSV file I/O (e.g. pd.read_csv)\n",
    "import os\n",
    "import matplotlib.pyplot as plt\n",
    "from datetime import datetime, timedelta\n",
    "import graphviz\n",
    "from sklearn.tree import DecisionTreeClassifier\n",
    "from sklearn.tree import export_graphviz\n",
    "from graphviz import Source\n",
    "\n",
    "\n",
    "\n",
    "pd.set_option('display.width', 350)\n",
    "\n",
    "data = pd.read_csv(\"/kaggle/input/employee-retention/employee_retention.csv\")\n",
    "print(\n",
    "    data.head(20),\n",
    "    '\\n',\n",
    "    '\\n',\n",
    "    data.shape)"
   ]
  },
  {
   "cell_type": "markdown",
   "id": "ae303f9c",
   "metadata": {
    "papermill": {
     "duration": 0.004669,
     "end_time": "2024-05-20T19:06:07.485088",
     "exception": false,
     "start_time": "2024-05-20T19:06:07.480419",
     "status": "completed"
    },
    "tags": []
   },
   "source": [
    "# Descriptive Statistics"
   ]
  },
  {
   "cell_type": "code",
   "execution_count": 2,
   "id": "3d46b241",
   "metadata": {
    "execution": {
     "iopub.execute_input": "2024-05-20T19:06:07.496624Z",
     "iopub.status.busy": "2024-05-20T19:06:07.496182Z",
     "iopub.status.idle": "2024-05-20T19:06:07.576061Z",
     "shell.execute_reply": "2024-05-20T19:06:07.574920Z"
    },
    "papermill": {
     "duration": 0.088926,
     "end_time": "2024-05-20T19:06:07.578907",
     "exception": false,
     "start_time": "2024-05-20T19:06:07.489981",
     "status": "completed"
    },
    "tags": []
   },
   "outputs": [
    {
     "name": "stdout",
     "output_type": "stream",
     "text": [
      "         employee_id    company_id     seniority         salary\n",
      "count   24702.000000  24702.000000  24702.000000   24702.000000\n",
      "mean   501604.403530      3.426969     14.127803  138183.345478\n",
      "std    288909.026101      2.700011      8.089520   76058.184573\n",
      "min        36.000000      1.000000      1.000000   17000.000000\n",
      "25%    250133.750000      1.000000      7.000000   79000.000000\n",
      "50%    500793.000000      2.000000     14.000000  123000.000000\n",
      "75%    753137.250000      5.000000     21.000000  187000.000000\n",
      "max    999969.000000     12.000000     99.000000  408000.000000 \n",
      " \n",
      " employee_id    float64\n",
      "company_id       int64\n",
      "dept            object\n",
      "seniority        int64\n",
      "salary         float64\n",
      "join_date       object\n",
      "quit_date       object\n",
      "dtype: object\n",
      "         employee_id    company_id     seniority         salary                      join_date                      quit_date\n",
      "count   24702.000000  24702.000000  24702.000000   24702.000000                          24702                          13510\n",
      "mean   501604.403530      3.426969     14.127803  138183.345478  2013-06-29 09:39:37.556473344  2014-05-02 17:43:38.327165184\n",
      "min        36.000000      1.000000      1.000000   17000.000000            2011-01-24 00:00:00            2011-10-13 00:00:00\n",
      "25%    250133.750000      1.000000      7.000000   79000.000000            2012-04-09 00:00:00            2013-06-28 00:00:00\n",
      "50%    500793.000000      2.000000     14.000000  123000.000000            2013-06-24 00:00:00            2014-06-20 00:00:00\n",
      "75%    753137.250000      5.000000     21.000000  187000.000000            2014-09-17 00:00:00            2015-03-27 00:00:00\n",
      "max    999969.000000     12.000000     99.000000  408000.000000            2015-12-10 00:00:00            2015-12-09 00:00:00\n",
      "std    288909.026101      2.700011      8.089520   76058.184573                            NaN                            NaN \n",
      " \n",
      " employee_id           float64\n",
      "company_id              int64\n",
      "dept                   object\n",
      "seniority               int64\n",
      "salary                float64\n",
      "join_date      datetime64[ns]\n",
      "quit_date      datetime64[ns]\n",
      "dtype: object\n"
     ]
    }
   ],
   "source": [
    "print(data.describe(),\n",
    "     '\\n',\n",
    "     '\\n',\n",
    "      data.dtypes)\n",
    "\n",
    "#Turn dates into date format\n",
    "data['join_date'] = pd.to_datetime(data['join_date'])\n",
    "data['quit_date'] = pd.to_datetime(data['quit_date'])\n",
    "\n",
    "print(data.describe(),\n",
    "     '\\n',\n",
    "     '\\n',\n",
    "      data.dtypes)"
   ]
  },
  {
   "cell_type": "markdown",
   "id": "1c8e9a6a",
   "metadata": {
    "papermill": {
     "duration": 0.005018,
     "end_time": "2024-05-20T19:06:07.589176",
     "exception": false,
     "start_time": "2024-05-20T19:06:07.584158",
     "status": "completed"
    },
    "tags": []
   },
   "source": [
    "# Feature Engineering"
   ]
  },
  {
   "cell_type": "code",
   "execution_count": 3,
   "id": "628d4b65",
   "metadata": {
    "execution": {
     "iopub.execute_input": "2024-05-20T19:06:07.601705Z",
     "iopub.status.busy": "2024-05-20T19:06:07.600920Z",
     "iopub.status.idle": "2024-05-20T19:06:08.113065Z",
     "shell.execute_reply": "2024-05-20T19:06:08.111953Z"
    },
    "papermill": {
     "duration": 0.521357,
     "end_time": "2024-05-20T19:06:08.115701",
     "exception": false,
     "start_time": "2024-05-20T19:06:07.594344",
     "status": "completed"
    },
    "tags": []
   },
   "outputs": [
    {
     "data": {
      "image/png": "[encoded data removed]",
      "text/plain": [
       "<Figure size 640x480 with 1 Axes>"
      ]
     },
     "metadata": {},
     "output_type": "display_data"
    }
   ],
   "source": [
    "data['employment_length_day'] = (data['quit_date'] - data['join_date']).dt.days\n",
    "data['employment_length_year'] = (data['quit_date'] - data['join_date']).dt.days / 365\n",
    "\n",
    "plt.hist(data['employment_length_year'].dropna(),bins = 200)\n",
    "plt.show()"
   ]
  },
  {
   "cell_type": "markdown",
   "id": "8b397958",
   "metadata": {
    "papermill": {
     "duration": 0.00528,
     "end_time": "2024-05-20T19:06:08.127004",
     "exception": false,
     "start_time": "2024-05-20T19:06:08.121724",
     "status": "completed"
    },
    "tags": []
   },
   "source": [
    "A lot of people's employment length is 1 or 2 years. They quit after the anniversary. 1 year quits are by far the most common. Let's investigate.\n",
    "\n"
   ]
  },
  {
   "cell_type": "code",
   "execution_count": 4,
   "id": "5f88133a",
   "metadata": {
    "execution": {
     "iopub.execute_input": "2024-05-20T19:06:08.140187Z",
     "iopub.status.busy": "2024-05-20T19:06:08.139755Z",
     "iopub.status.idle": "2024-05-20T19:06:08.156504Z",
     "shell.execute_reply": "2024-05-20T19:06:08.155451Z"
    },
    "papermill": {
     "duration": 0.026739,
     "end_time": "2024-05-20T19:06:08.159352",
     "exception": false,
     "start_time": "2024-05-20T19:06:08.132613",
     "status": "completed"
    },
    "tags": []
   },
   "outputs": [],
   "source": [
    "# Create binary class: users quit within 13 months or not\n",
    "data = data[data['join_date'] <datetime.strptime(\"2015/12/13\", \"%Y/%m/%d\") - timedelta(days=(365+31))]\n",
    "data['quit_in_13mo'] = np.where((data['employment_length_day']>396) | (np.isnan(data['employment_length_day'])), 0, 1)"
   ]
  },
  {
   "cell_type": "markdown",
   "id": "1fae68cd",
   "metadata": {
    "papermill": {
     "duration": 0.007805,
     "end_time": "2024-05-20T19:06:08.173040",
     "exception": false,
     "start_time": "2024-05-20T19:06:08.165235",
     "status": "completed"
    },
    "tags": []
   },
   "source": [
    "# Decision Tree"
   ]
  },
  {
   "cell_type": "code",
   "execution_count": 5,
   "id": "bc862d5b",
   "metadata": {
    "execution": {
     "iopub.execute_input": "2024-05-20T19:06:08.186647Z",
     "iopub.status.busy": "2024-05-20T19:06:08.186152Z",
     "iopub.status.idle": "2024-05-20T19:06:08.439383Z",
     "shell.execute_reply": "2024-05-20T19:06:08.438305Z"
    },
    "papermill": {
     "duration": 0.262742,
     "end_time": "2024-05-20T19:06:08.441849",
     "exception": false,
     "start_time": "2024-05-20T19:06:08.179107",
     "status": "completed"
    },
    "tags": []
   },
   "outputs": [
    {
     "data": {
      "image/svg+xml": [
       "<?xml version=\"1.0\" encoding=\"UTF-8\" standalone=\"no\"?>\n",
       "<!DOCTYPE svg PUBLIC \"-//W3C//DTD SVG 1.1//EN\"\n",
       " \"http://www.w3.org/Graphics/SVG/1.1/DTD/svg11.dtd\">\n",
       "<!-- Generated by graphviz version 9.0.0 (20231125.0833)\n",
       " -->\n",
       "<!-- Title: Tree Pages: 1 -->\n",
       "<svg width=\"589pt\" height=\"193pt\"\n",
       " viewBox=\"0.00 0.00 588.50 192.75\" xmlns=\"http://www.w3.org/2000/svg\" xmlns:xlink=\"http://www.w3.org/1999/xlink\">\n",
       "<g id=\"graph0\" class=\"graph\" transform=\"scale(1 1) rotate(0) translate(4 188.75)\">\n",
       "<title>Tree</title>\n",
       "<polygon fill=\"white\" stroke=\"none\" points=\"-4,4 -4,-188.75 584.5,-188.75 584.5,4 -4,4\"/>\n",
       "<!-- 0 -->\n",
       "<g id=\"node1\" class=\"node\">\n",
       "<title>0</title>\n",
       "<polygon fill=\"#ffffff\" stroke=\"black\" points=\"158.5,-111.38 0,-111.38 0,-34.38 158.5,-34.38 158.5,-111.38\"/>\n",
       "<text text-anchor=\"middle\" x=\"79.25\" y=\"-94.08\" font-family=\"Helvetica,sans-Serif\" font-size=\"14.00\">salary &lt;= 224500.0</text>\n",
       "<text text-anchor=\"middle\" x=\"79.25\" y=\"-76.83\" font-family=\"Helvetica,sans-Serif\" font-size=\"14.00\">gini = 0.5</text>\n",
       "<text text-anchor=\"middle\" x=\"79.25\" y=\"-59.58\" font-family=\"Helvetica,sans-Serif\" font-size=\"14.00\">samples = 100.0%</text>\n",
       "<text text-anchor=\"middle\" x=\"79.25\" y=\"-42.33\" font-family=\"Helvetica,sans-Serif\" font-size=\"14.00\">value = [0.5, 0.5]</text>\n",
       "</g>\n",
       "<!-- 1 -->\n",
       "<g id=\"node2\" class=\"node\">\n",
       "<title>1</title>\n",
       "<polygon fill=\"#eef7fd\" stroke=\"black\" points=\"369.5,-154.38 194.5,-154.38 194.5,-77.38 369.5,-77.38 369.5,-154.38\"/>\n",
       "<text text-anchor=\"middle\" x=\"282\" y=\"-137.07\" font-family=\"Helvetica,sans-Serif\" font-size=\"14.00\">salary &lt;= 62500.0</text>\n",
       "<text text-anchor=\"middle\" x=\"282\" y=\"-119.83\" font-family=\"Helvetica,sans-Serif\" font-size=\"14.00\">gini = 0.499</text>\n",
       "<text text-anchor=\"middle\" x=\"282\" y=\"-102.58\" font-family=\"Helvetica,sans-Serif\" font-size=\"14.00\">samples = 85.7%</text>\n",
       "<text text-anchor=\"middle\" x=\"282\" y=\"-85.33\" font-family=\"Helvetica,sans-Serif\" font-size=\"14.00\">value = [0.478, 0.522]</text>\n",
       "</g>\n",
       "<!-- 0&#45;&gt;1 -->\n",
       "<g id=\"edge1\" class=\"edge\">\n",
       "<title>0&#45;&gt;1</title>\n",
       "<path fill=\"none\" stroke=\"black\" d=\"M158.73,-89.68C166.74,-91.4 174.95,-93.16 183.14,-94.91\"/>\n",
       "<polygon fill=\"black\" stroke=\"black\" points=\"182.28,-98.31 192.79,-96.98 183.74,-91.46 182.28,-98.31\"/>\n",
       "<text text-anchor=\"middle\" x=\"173.28\" y=\"-106.21\" font-family=\"Helvetica,sans-Serif\" font-size=\"14.00\">True</text>\n",
       "</g>\n",
       "<!-- 4 -->\n",
       "<g id=\"node5\" class=\"node\">\n",
       "<title>4</title>\n",
       "<polygon fill=\"#f3c4a2\" stroke=\"black\" points=\"369.5,-59.75 194.5,-59.75 194.5,0 369.5,0 369.5,-59.75\"/>\n",
       "<text text-anchor=\"middle\" x=\"282\" y=\"-42.45\" font-family=\"Helvetica,sans-Serif\" font-size=\"14.00\">gini = 0.453</text>\n",
       "<text text-anchor=\"middle\" x=\"282\" y=\"-25.2\" font-family=\"Helvetica,sans-Serif\" font-size=\"14.00\">samples = 14.3%</text>\n",
       "<text text-anchor=\"middle\" x=\"282\" y=\"-7.95\" font-family=\"Helvetica,sans-Serif\" font-size=\"14.00\">value = [0.653, 0.347]</text>\n",
       "</g>\n",
       "<!-- 0&#45;&gt;4 -->\n",
       "<g id=\"edge4\" class=\"edge\">\n",
       "<title>0&#45;&gt;4</title>\n",
       "<path fill=\"none\" stroke=\"black\" d=\"M158.73,-56.07C166.74,-54.35 174.95,-52.59 183.14,-50.84\"/>\n",
       "<polygon fill=\"black\" stroke=\"black\" points=\"183.74,-54.29 192.79,-48.77 182.28,-47.44 183.74,-54.29\"/>\n",
       "<text text-anchor=\"middle\" x=\"173.28\" y=\"-30.19\" font-family=\"Helvetica,sans-Serif\" font-size=\"14.00\">False</text>\n",
       "</g>\n",
       "<!-- 2 -->\n",
       "<g id=\"node3\" class=\"node\">\n",
       "<title>2</title>\n",
       "<polygon fill=\"#fae8db\" stroke=\"black\" points=\"571.5,-184.75 414.5,-184.75 414.5,-125 571.5,-125 571.5,-184.75\"/>\n",
       "<text text-anchor=\"middle\" x=\"493\" y=\"-167.45\" font-family=\"Helvetica,sans-Serif\" font-size=\"14.00\">gini = 0.495</text>\n",
       "<text text-anchor=\"middle\" x=\"493\" y=\"-150.2\" font-family=\"Helvetica,sans-Serif\" font-size=\"14.00\">samples = 15.0%</text>\n",
       "<text text-anchor=\"middle\" x=\"493\" y=\"-132.95\" font-family=\"Helvetica,sans-Serif\" font-size=\"14.00\">value = [0.55, 0.45]</text>\n",
       "</g>\n",
       "<!-- 1&#45;&gt;2 -->\n",
       "<g id=\"edge2\" class=\"edge\">\n",
       "<title>1&#45;&gt;2</title>\n",
       "<path fill=\"none\" stroke=\"black\" d=\"M369.82,-132.08C380.72,-134.11 391.89,-136.19 402.83,-138.24\"/>\n",
       "<polygon fill=\"black\" stroke=\"black\" points=\"402.17,-141.67 412.64,-140.07 403.45,-134.79 402.17,-141.67\"/>\n",
       "</g>\n",
       "<!-- 3 -->\n",
       "<g id=\"node4\" class=\"node\">\n",
       "<title>3</title>\n",
       "<polygon fill=\"#e4f2fb\" stroke=\"black\" points=\"580.5,-106.75 405.5,-106.75 405.5,-47 580.5,-47 580.5,-106.75\"/>\n",
       "<text text-anchor=\"middle\" x=\"493\" y=\"-89.45\" font-family=\"Helvetica,sans-Serif\" font-size=\"14.00\">gini = 0.497</text>\n",
       "<text text-anchor=\"middle\" x=\"493\" y=\"-72.2\" font-family=\"Helvetica,sans-Serif\" font-size=\"14.00\">samples = 70.7%</text>\n",
       "<text text-anchor=\"middle\" x=\"493\" y=\"-54.95\" font-family=\"Helvetica,sans-Serif\" font-size=\"14.00\">value = [0.463, 0.537]</text>\n",
       "</g>\n",
       "<!-- 1&#45;&gt;3 -->\n",
       "<g id=\"edge3\" class=\"edge\">\n",
       "<title>1&#45;&gt;3</title>\n",
       "<path fill=\"none\" stroke=\"black\" d=\"M369.82,-99.67C377.75,-98.19 385.81,-96.69 393.83,-95.19\"/>\n",
       "<polygon fill=\"black\" stroke=\"black\" points=\"394.44,-98.64 403.63,-93.37 393.15,-91.76 394.44,-98.64\"/>\n",
       "</g>\n",
       "</g>\n",
       "</svg>\n"
      ],
      "text/plain": [
       "<graphviz.sources.Source at 0x7c7d5781bac0>"
      ]
     },
     "execution_count": 5,
     "metadata": {},
     "output_type": "execute_result"
    }
   ],
   "source": [
    "#print(data.head())\n",
    "data_dummy = pd.get_dummies(data[['company_id','dept','seniority','salary','quit_in_13mo']],drop_first = True)\n",
    "X = data_dummy.drop('quit_in_13mo', axis=1)\n",
    "y = data['quit_in_13mo']\n",
    "\n",
    "tree = DecisionTreeClassifier(max_depth = 4,\n",
    "                              min_samples_leaf = 30,\n",
    "                              class_weight = \"balanced\",\n",
    "                              min_impurity_decrease = 0.001\n",
    "                             )\n",
    "tree.fit(X,y)\n",
    "\n",
    "plt_config = export_graphviz(tree,\n",
    "                             feature_names = X.columns,\n",
    "                             proportion = True,\n",
    "                             rotate = True,\n",
    "                             filled = True\n",
    "                            )\n",
    "\n",
    "plt = Source(plt_config)\n",
    "plt\n"
   ]
  },
  {
   "cell_type": "markdown",
   "id": "34f09282",
   "metadata": {
    "papermill": {
     "duration": 0.005387,
     "end_time": "2024-05-20T19:06:08.452987",
     "exception": false,
     "start_time": "2024-05-20T19:06:08.447600",
     "status": "completed"
    },
    "tags": []
   },
   "source": [
    "**Observations**\n",
    "\n",
    "Salary is the most important in preicting whether one quits within 13 months\n",
    "\n",
    "Those with low salary <=62,500 and with high salary >= 224,500 are not likely to quit within 13 mo.\n",
    "\n",
    "Those in the middle (betweeen 62,500 and 224,500) are the ones quitting fast\n",
    "\n",
    "Let's plot a graph to confirm"
   ]
  },
  {
   "cell_type": "code",
   "execution_count": 6,
   "id": "793e5395",
   "metadata": {
    "execution": {
     "iopub.execute_input": "2024-05-20T19:06:08.466371Z",
     "iopub.status.busy": "2024-05-20T19:06:08.465967Z",
     "iopub.status.idle": "2024-05-20T19:06:08.869078Z",
     "shell.execute_reply": "2024-05-20T19:06:08.867450Z"
    },
    "papermill": {
     "duration": 0.412575,
     "end_time": "2024-05-20T19:06:08.871585",
     "exception": false,
     "start_time": "2024-05-20T19:06:08.459010",
     "status": "completed"
    },
    "tags": []
   },
   "outputs": [
    {
     "data": {
      "image/svg+xml": [
       "<?xml version=\"1.0\" encoding=\"UTF-8\" standalone=\"no\"?>\n",
       "<!DOCTYPE svg PUBLIC \"-//W3C//DTD SVG 1.1//EN\"\n",
       " \"http://www.w3.org/Graphics/SVG/1.1/DTD/svg11.dtd\">\n",
       "<!-- Generated by graphviz version 9.0.0 (20231125.0833)\n",
       " -->\n",
       "<!-- Title: Tree Pages: 1 -->\n",
       "<svg width=\"589pt\" height=\"193pt\"\n",
       " viewBox=\"0.00 0.00 588.50 192.75\" xmlns=\"http://www.w3.org/2000/svg\" xmlns:xlink=\"http://www.w3.org/1999/xlink\">\n",
       "<g id=\"graph0\" class=\"graph\" transform=\"scale(1 1) rotate(0) translate(4 188.75)\">\n",
       "<title>Tree</title>\n",
       "<polygon fill=\"white\" stroke=\"none\" points=\"-4,4 -4,-188.75 584.5,-188.75 584.5,4 -4,4\"/>\n",
       "<!-- 0 -->\n",
       "<g id=\"node1\" class=\"node\">\n",
       "<title>0</title>\n",
       "<polygon fill=\"#ffffff\" stroke=\"black\" points=\"158.5,-111.38 0,-111.38 0,-34.38 158.5,-34.38 158.5,-111.38\"/>\n",
       "<text text-anchor=\"middle\" x=\"79.25\" y=\"-94.08\" font-family=\"Helvetica,sans-Serif\" font-size=\"14.00\">salary &lt;= 224500.0</text>\n",
       "<text text-anchor=\"middle\" x=\"79.25\" y=\"-76.83\" font-family=\"Helvetica,sans-Serif\" font-size=\"14.00\">gini = 0.5</text>\n",
       "<text text-anchor=\"middle\" x=\"79.25\" y=\"-59.58\" font-family=\"Helvetica,sans-Serif\" font-size=\"14.00\">samples = 100.0%</text>\n",
       "<text text-anchor=\"middle\" x=\"79.25\" y=\"-42.33\" font-family=\"Helvetica,sans-Serif\" font-size=\"14.00\">value = [0.5, 0.5]</text>\n",
       "</g>\n",
       "<!-- 1 -->\n",
       "<g id=\"node2\" class=\"node\">\n",
       "<title>1</title>\n",
       "<polygon fill=\"#eef7fd\" stroke=\"black\" points=\"369.5,-154.38 194.5,-154.38 194.5,-77.38 369.5,-77.38 369.5,-154.38\"/>\n",
       "<text text-anchor=\"middle\" x=\"282\" y=\"-137.07\" font-family=\"Helvetica,sans-Serif\" font-size=\"14.00\">salary &lt;= 62500.0</text>\n",
       "<text text-anchor=\"middle\" x=\"282\" y=\"-119.83\" font-family=\"Helvetica,sans-Serif\" font-size=\"14.00\">gini = 0.499</text>\n",
       "<text text-anchor=\"middle\" x=\"282\" y=\"-102.58\" font-family=\"Helvetica,sans-Serif\" font-size=\"14.00\">samples = 85.7%</text>\n",
       "<text text-anchor=\"middle\" x=\"282\" y=\"-85.33\" font-family=\"Helvetica,sans-Serif\" font-size=\"14.00\">value = [0.478, 0.522]</text>\n",
       "</g>\n",
       "<!-- 0&#45;&gt;1 -->\n",
       "<g id=\"edge1\" class=\"edge\">\n",
       "<title>0&#45;&gt;1</title>\n",
       "<path fill=\"none\" stroke=\"black\" d=\"M158.73,-89.68C166.74,-91.4 174.95,-93.16 183.14,-94.91\"/>\n",
       "<polygon fill=\"black\" stroke=\"black\" points=\"182.28,-98.31 192.79,-96.98 183.74,-91.46 182.28,-98.31\"/>\n",
       "<text text-anchor=\"middle\" x=\"173.28\" y=\"-106.21\" font-family=\"Helvetica,sans-Serif\" font-size=\"14.00\">True</text>\n",
       "</g>\n",
       "<!-- 4 -->\n",
       "<g id=\"node5\" class=\"node\">\n",
       "<title>4</title>\n",
       "<polygon fill=\"#f3c4a2\" stroke=\"black\" points=\"369.5,-59.75 194.5,-59.75 194.5,0 369.5,0 369.5,-59.75\"/>\n",
       "<text text-anchor=\"middle\" x=\"282\" y=\"-42.45\" font-family=\"Helvetica,sans-Serif\" font-size=\"14.00\">gini = 0.453</text>\n",
       "<text text-anchor=\"middle\" x=\"282\" y=\"-25.2\" font-family=\"Helvetica,sans-Serif\" font-size=\"14.00\">samples = 14.3%</text>\n",
       "<text text-anchor=\"middle\" x=\"282\" y=\"-7.95\" font-family=\"Helvetica,sans-Serif\" font-size=\"14.00\">value = [0.653, 0.347]</text>\n",
       "</g>\n",
       "<!-- 0&#45;&gt;4 -->\n",
       "<g id=\"edge4\" class=\"edge\">\n",
       "<title>0&#45;&gt;4</title>\n",
       "<path fill=\"none\" stroke=\"black\" d=\"M158.73,-56.07C166.74,-54.35 174.95,-52.59 183.14,-50.84\"/>\n",
       "<polygon fill=\"black\" stroke=\"black\" points=\"183.74,-54.29 192.79,-48.77 182.28,-47.44 183.74,-54.29\"/>\n",
       "<text text-anchor=\"middle\" x=\"173.28\" y=\"-30.19\" font-family=\"Helvetica,sans-Serif\" font-size=\"14.00\">False</text>\n",
       "</g>\n",
       "<!-- 2 -->\n",
       "<g id=\"node3\" class=\"node\">\n",
       "<title>2</title>\n",
       "<polygon fill=\"#fae8db\" stroke=\"black\" points=\"571.5,-184.75 414.5,-184.75 414.5,-125 571.5,-125 571.5,-184.75\"/>\n",
       "<text text-anchor=\"middle\" x=\"493\" y=\"-167.45\" font-family=\"Helvetica,sans-Serif\" font-size=\"14.00\">gini = 0.495</text>\n",
       "<text text-anchor=\"middle\" x=\"493\" y=\"-150.2\" font-family=\"Helvetica,sans-Serif\" font-size=\"14.00\">samples = 15.0%</text>\n",
       "<text text-anchor=\"middle\" x=\"493\" y=\"-132.95\" font-family=\"Helvetica,sans-Serif\" font-size=\"14.00\">value = [0.55, 0.45]</text>\n",
       "</g>\n",
       "<!-- 1&#45;&gt;2 -->\n",
       "<g id=\"edge2\" class=\"edge\">\n",
       "<title>1&#45;&gt;2</title>\n",
       "<path fill=\"none\" stroke=\"black\" d=\"M369.82,-132.08C380.72,-134.11 391.89,-136.19 402.83,-138.24\"/>\n",
       "<polygon fill=\"black\" stroke=\"black\" points=\"402.17,-141.67 412.64,-140.07 403.45,-134.79 402.17,-141.67\"/>\n",
       "</g>\n",
       "<!-- 3 -->\n",
       "<g id=\"node4\" class=\"node\">\n",
       "<title>3</title>\n",
       "<polygon fill=\"#e4f2fb\" stroke=\"black\" points=\"580.5,-106.75 405.5,-106.75 405.5,-47 580.5,-47 580.5,-106.75\"/>\n",
       "<text text-anchor=\"middle\" x=\"493\" y=\"-89.45\" font-family=\"Helvetica,sans-Serif\" font-size=\"14.00\">gini = 0.497</text>\n",
       "<text text-anchor=\"middle\" x=\"493\" y=\"-72.2\" font-family=\"Helvetica,sans-Serif\" font-size=\"14.00\">samples = 70.7%</text>\n",
       "<text text-anchor=\"middle\" x=\"493\" y=\"-54.95\" font-family=\"Helvetica,sans-Serif\" font-size=\"14.00\">value = [0.463, 0.537]</text>\n",
       "</g>\n",
       "<!-- 1&#45;&gt;3 -->\n",
       "<g id=\"edge3\" class=\"edge\">\n",
       "<title>1&#45;&gt;3</title>\n",
       "<path fill=\"none\" stroke=\"black\" d=\"M369.82,-99.67C377.75,-98.19 385.81,-96.69 393.83,-95.19\"/>\n",
       "<polygon fill=\"black\" stroke=\"black\" points=\"394.44,-98.64 403.63,-93.37 393.15,-91.76 394.44,-98.64\"/>\n",
       "</g>\n",
       "</g>\n",
       "</svg>\n"
      ],
      "text/plain": [
       "<graphviz.sources.Source at 0x7c7d5781bac0>"
      ]
     },
     "execution_count": 6,
     "metadata": {},
     "output_type": "execute_result"
    },
    {
     "data": {
      "image/png": "[encoded data removed]",
      "text/plain": [
       "<Figure size 640x480 with 1 Axes>"
      ]
     },
     "metadata": {},
     "output_type": "display_data"
    }
   ],
   "source": [
    "data['salary_percentile'] = pd.qcut(\n",
    "                                    data['salary'],\n",
    "                                    q = 50,\n",
    "                                    labels = False)\n",
    "\n",
    "data.groupby('salary_percentile')['quit_in_13mo'].mean().plot(title = \"% quitting within 13mo\")\n",
    "plt"
   ]
  },
  {
   "cell_type": "markdown",
   "id": "4457ef67",
   "metadata": {
    "papermill": {
     "duration": 0.007067,
     "end_time": "2024-05-20T19:06:08.885624",
     "exception": false,
     "start_time": "2024-05-20T19:06:08.878557",
     "status": "completed"
    },
    "tags": []
   },
   "source": [
    "# Conclusion and Recommendation\n",
    "\n",
    "1. Employees whose salary is in the MIDDLE range\n",
    "\n",
    "They are likely to quit after 13 mos. Can we find more data related to those people, like from their exit interviews? \n",
    "   \n",
    "They prob quit becase something is wrong within their short tenure, but they stuck it out until 1 year to quit. What are they unhappy with? Is our pay not competitive with the market and those employees got better paid position else where? Or is it they don't see advancement/promotion in the job?\n",
    "\n",
    "This is the biggest hit to improve employee retention\n",
    "\n"
   ]
  }
 ],
 "metadata": {
  "kaggle": {
   "accelerator": "none",
   "dataSources": [
    {
     "datasetId": 5043863,
     "sourceId": 8461275,
     "sourceType": "datasetVersion"
    }
   ],
   "dockerImageVersionId": 30698,
   "isGpuEnabled": false,
   "isInternetEnabled": true,
   "language": "python",
   "sourceType": "notebook"
  },
  "kernelspec": {
   "display_name": "Python 3",
   "language": "python",
   "name": "python3"
  },
  "language_info": {
   "codemirror_mode": {
    "name": "ipython",
    "version": 3
   },
   "file_extension": ".py",
   "mimetype": "text/x-python",
   "name": "python",
   "nbconvert_exporter": "python",
   "pygments_lexer": "ipython3",
   "version": "3.10.13"
  },
  "papermill": {
   "default_parameters": {},
   "duration": 8.361451,
   "end_time": "2024-05-20T19:06:09.618023",
   "environment_variables": {},
   "exception": null,
   "input_path": "__notebook__.ipynb",
   "output_path": "__notebook__.ipynb",
   "parameters": {},
   "start_time": "2024-05-20T19:06:01.256572",
   "version": "2.5.0"
  }
 },
 "nbformat": 4,
 "nbformat_minor": 5
}
